{
 "cells": [
  {
   "cell_type": "markdown",
   "id": "93e825fc",
   "metadata": {},
   "source": [
    "# Data Science Tools and Ecosystem"
   ]
  },
  {
   "cell_type": "markdown",
   "id": "bbbd29cf",
   "metadata": {},
   "source": [
    "In this notebook, I will summarize the data science tools and ecosystem as I currently understand them."
   ]
  },
  {
   "cell_type": "markdown",
   "id": "bb696414",
   "metadata": {},
   "source": [
    "## Author"
   ]
  },
  {
   "cell_type": "markdown",
   "id": "ac465d89",
   "metadata": {},
   "source": [
    "Lydia Fernandez"
   ]
  },
  {
   "cell_type": "markdown",
   "id": "f9779a16",
   "metadata": {},
   "source": [
    "**Objectives**\n",
    "* List popular languages for data science.\n",
    "* List libraries commonly used by data scientists.\n",
    "* List some data science tools.\n",
    "* Use Python to evaluate some arithmetic expressions."
   ]
  },
  {
   "cell_type": "markdown",
   "id": "01c08d26",
   "metadata": {},
   "source": [
    "Some of the popular languages that data scientists use are:\n",
    "\n",
    "1. Python\n",
    "2. R\n",
    "3. SQL\n",
    "4. Scala\n",
    "5. Java\n",
    "6. C++\n",
    "7. Julia"
   ]
  },
  {
   "cell_type": "markdown",
   "id": "0879f2a7",
   "metadata": {},
   "source": [
    "Some of the libraries commonly used by data scientists include:\n",
    "\n",
    "I. Python Libraries:  \n",
    "&nbsp;&nbsp;&nbsp;&nbsp;A. Scientific Computing Libraries  \n",
    "&nbsp;&nbsp;&nbsp;&nbsp;&nbsp;&nbsp;&nbsp;&nbsp;1. Pandas (uses dataframes)  \n",
    "&nbsp;&nbsp;&nbsp;&nbsp;&nbsp;&nbsp;&nbsp;&nbsp;2. NumPy (arrays, matrices, math, etc.)  \n",
    "&nbsp;&nbsp;&nbsp;&nbsp;B. Visualization Libraries  \n",
    "&nbsp;&nbsp;&nbsp;&nbsp;&nbsp;&nbsp;&nbsp;&nbsp;1. Matplotlib (plots and graphs, most popular)  \n",
    "&nbsp;&nbsp;&nbsp;&nbsp;&nbsp;&nbsp;&nbsp;&nbsp;2. Seaborn (plots like heat maps, time series, and violin plots)  \n",
    "&nbsp;&nbsp;&nbsp;&nbsp;C. Machine Learning (ML) and Deep Learning (DL) Libraries  \n",
    "&nbsp;&nbsp;&nbsp;&nbsp;&nbsp;&nbsp;&nbsp;&nbsp;1. Scikit-learn (ML: regression, classification, and clustering)  \n",
    "&nbsp;&nbsp;&nbsp;&nbsp;&nbsp;&nbsp;&nbsp;&nbsp;2. Keras (DL: Neural Networks)  \n",
    "&nbsp;&nbsp;&nbsp;&nbsp;&nbsp;&nbsp;&nbsp;&nbsp;3. TensorFlow (DL: Production and Deployment)  \n",
    "&nbsp;&nbsp;&nbsp;&nbsp;&nbsp;&nbsp;&nbsp;&nbsp;4. PyTorch (DL: regression, classification)  \n",
    "II. Apache Spark  \n",
    "&nbsp;&nbsp;&nbsp;&nbsp;A. Python  \n",
    "&nbsp;&nbsp;&nbsp;&nbsp;B. R  \n",
    "&nbsp;&nbsp;&nbsp;&nbsp;C. Scala  \n",
    "&nbsp;&nbsp;&nbsp;&nbsp;D. SQL  \n",
    "III. Scala Libraries (used in data engineering and data science)  \n",
    "&nbsp;&nbsp;&nbsp;&nbsp;A. Libraries that are complementary to Spark  \n",
    "&nbsp;&nbsp;&nbsp;&nbsp;&nbsp;&nbsp;&nbsp;&nbsp;1. Vegas (statistical data visualizations)  \n",
    "&nbsp;&nbsp;&nbsp;&nbsp;&nbsp;&nbsp;&nbsp;&nbsp;2. Big DL   \n",
    "IV. R Libraries  \n",
    "&nbsp;&nbsp;&nbsp;&nbsp;A. ggplot2 (data visualization in R)  "
   ]
  },
  {
   "cell_type": "markdown",
   "id": "005d8017",
   "metadata": {},
   "source": [
    "[//]: # \"Not entirely sure about these.\"\n",
    "| Data Science Tools |\n",
    "| -------------|\n",
    "| R Studio |\n",
    "| Anaconda |\n",
    "| Apache Spark |"
   ]
  },
  {
   "cell_type": "markdown",
   "id": "736919f5",
   "metadata": {},
   "source": [
    "### Below are a few examples of evaluating arithmetic expressions in Python."
   ]
  },
  {
   "cell_type": "markdown",
   "id": "d887b7be",
   "metadata": {},
   "source": [
    "This is a simple arithmetic expression to multiply and then add integers."
   ]
  },
  {
   "cell_type": "code",
   "execution_count": 1,
   "id": "790054d3",
   "metadata": {},
   "outputs": [
    {
     "data": {
      "text/plain": [
       "17"
      ]
     },
     "execution_count": 1,
     "metadata": {},
     "output_type": "execute_result"
    }
   ],
   "source": [
    "(3*4)+5"
   ]
  },
  {
   "cell_type": "markdown",
   "id": "bded18dc",
   "metadata": {},
   "source": [
    "This will convert 200 minutes to hours by dividing by 60."
   ]
  },
  {
   "cell_type": "code",
   "execution_count": 3,
   "id": "73edda57",
   "metadata": {},
   "outputs": [
    {
     "data": {
      "text/plain": [
       "3.3333333333333335"
      ]
     },
     "execution_count": 3,
     "metadata": {},
     "output_type": "execute_result"
    }
   ],
   "source": [
    "200 / 60"
   ]
  },
  {
   "cell_type": "code",
   "execution_count": null,
   "id": "3d071bf1",
   "metadata": {},
   "outputs": [],
   "source": []
  }
 ],
 "metadata": {
  "kernelspec": {
   "display_name": "Python 3 (ipykernel)",
   "language": "python",
   "name": "python3"
  },
  "language_info": {
   "codemirror_mode": {
    "name": "ipython",
    "version": 3
   },
   "file_extension": ".py",
   "mimetype": "text/x-python",
   "name": "python",
   "nbconvert_exporter": "python",
   "pygments_lexer": "ipython3",
   "version": "3.10.9"
  }
 },
 "nbformat": 4,
 "nbformat_minor": 5
}
